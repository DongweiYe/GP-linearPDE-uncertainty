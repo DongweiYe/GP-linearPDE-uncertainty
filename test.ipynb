{
 "cells": [
  {
   "cell_type": "code",
   "execution_count": 1,
   "id": "initial_id",
   "metadata": {
    "collapsed": true,
    "ExecuteTime": {
     "end_time": "2023-09-21T11:31:11.491314Z",
     "start_time": "2023-09-21T11:31:10.556287Z"
    }
   },
   "outputs": [
    {
     "ename": "RuntimeError",
     "evalue": "module compiled against API version 0xf but this version of numpy is 0xe",
     "output_type": "error",
     "traceback": [
      "\u001B[0;31m---------------------------------------------------------------------------\u001B[0m",
      "\u001B[0;31mRuntimeError\u001B[0m                              Traceback (most recent call last)",
      "\u001B[0;31mRuntimeError\u001B[0m: module compiled against API version 0xf but this version of numpy is 0xe"
     ]
    },
    {
     "ename": "ModuleNotFoundError",
     "evalue": "No module named 'pymc3'",
     "output_type": "error",
     "traceback": [
      "\u001B[0;31m---------------------------------------------------------------------------\u001B[0m",
      "\u001B[0;31mModuleNotFoundError\u001B[0m                       Traceback (most recent call last)",
      "Input \u001B[0;32mIn [1]\u001B[0m, in \u001B[0;36m<cell line: 2>\u001B[0;34m()\u001B[0m\n\u001B[1;32m      1\u001B[0m \u001B[38;5;28;01mimport\u001B[39;00m \u001B[38;5;21;01mjax\u001B[39;00m\u001B[38;5;21;01m.\u001B[39;00m\u001B[38;5;21;01mnumpy\u001B[39;00m \u001B[38;5;28;01mas\u001B[39;00m \u001B[38;5;21;01mjnp\u001B[39;00m\n\u001B[0;32m----> 2\u001B[0m \u001B[38;5;28;01mimport\u001B[39;00m \u001B[38;5;21;01mpymc3\u001B[39;00m \u001B[38;5;28;01mas\u001B[39;00m \u001B[38;5;21;01mpm3\u001B[39;00m\n\u001B[1;32m      3\u001B[0m \u001B[38;5;28;01mfrom\u001B[39;00m \u001B[38;5;21;01minclude\u001B[39;00m\u001B[38;5;21;01m.\u001B[39;00m\u001B[38;5;21;01minit\u001B[39;00m \u001B[38;5;28;01mimport\u001B[39;00m ModelInitializer_2d\n",
      "\u001B[0;31mModuleNotFoundError\u001B[0m: No module named 'pymc3'"
     ]
    }
   ],
   "source": [
    "import jax.numpy as jnp\n",
    "import pymc3 as pm3\n",
    "from include.init import ModelInitializer_2d"
   ]
  },
  {
   "cell_type": "code",
   "execution_count": null,
   "outputs": [],
   "source": [
    "number_u = 20\n",
    "number_f = 10\n",
    "number_init = 5\n",
    "number_bound = 4\n",
    "sample_num = 10\n",
    "model_initializer = ModelInitializer_2d(number_u=number_u, number_f=number_f, sample_num=sample_num, number_init=number_init, number_bound=number_bound)"
   ],
   "metadata": {
    "collapsed": false
   },
   "id": "f258f212195320d4"
  },
  {
   "cell_type": "code",
   "execution_count": null,
   "outputs": [],
   "source": [
    "Xu = model_initializer.Xu\n",
    "yu = model_initializer.yu\n",
    "xu_noise = model_initializer.xu_noise\n",
    "tu_noise = model_initializer.tu_noise\n",
    "Xu_noise = model_initializer.Xu_noise\n",
    "yu_noise = model_initializer.yu_noise\n",
    "xu_fixed = model_initializer.xu_fixed\n",
    "tu_fixed = model_initializer.tu_fixed\n",
    "Xu_fixed = model_initializer.Xu_fixed\n",
    "Yu_fixed = model_initializer.Yu_fixed\n",
    "Y = model_initializer.Y\n",
    "xf = model_initializer.xf\n",
    "tf = model_initializer.tf\n",
    "Xf = model_initializer.Xf\n",
    "yf = model_initializer.yf\n",
    "prior_std = 1e1"
   ],
   "metadata": {
    "collapsed": false
   },
   "id": "c55baeec84f29cfa"
  },
  {
   "cell_type": "code",
   "execution_count": null,
   "outputs": [],
   "source": [
    "from include.heat2d import heat_equation_kuu_noise, heat_equation_kuf, heat_equation_kfu, heat_equation_kff\n",
    "def compute_K(z_prior, init,  Xfz, Xfg):\n",
    "    Xuz = z_prior\n",
    "    params = {'sigma': init[-1][0], 'lengthscale': init[-1][1]}\n",
    "    zz_uu = heat_equation_kuu_noise(Xuz, Xuz, params)\n",
    "    zz_uf = heat_equation_kuf(Xuz, Xfz, params)\n",
    "    zg_uf = heat_equation_kfu(Xuz, Xfg, params)\n",
    "    zz_fu = heat_equation_kfu(Xfz, Xuz, params)\n",
    "    zz_ff = heat_equation_kff(Xfz, Xfz, params)\n",
    "    zg_ff = heat_equation_kff(Xfz, Xfg, params)\n",
    "    gz_fu = heat_equation_kfu(Xfg, Xuz, params)\n",
    "    gz_ff = heat_equation_kff(Xfg, Xfz, params)\n",
    "    gg_ff = heat_equation_kff(Xfg, Xfg, params)\n",
    "    K = jnp.block([[zz_uu, zz_uf, zg_uf], [zz_fu, zz_ff, zg_ff], [gz_fu, gz_ff, gg_ff]])\n",
    "    return K"
   ],
   "metadata": {
    "collapsed": false
   },
   "id": "dc2a9d2ab1e9d97f"
  },
  {
   "cell_type": "code",
   "execution_count": null,
   "outputs": [],
   "source": [
    "init_params = model_initializer.heat_params_init\n",
    "Xfz =  Xu_fixed\n",
    "Xfg=Xf"
   ],
   "metadata": {
    "collapsed": false
   },
   "id": "4089c9faaa41710e"
  },
  {
   "cell_type": "code",
   "execution_count": null,
   "outputs": [],
   "source": [
    "import numpy\n",
    "prior_mean=Xu_noise \n",
    "prior_cov=prior_std *jnp.eye(2)\n",
    "n_samples = 20\n",
    "coords = {\"samples\": range(n_samples),\n",
    "          \"features\": ['x', 't']}\n",
    "basic_model = pm.Model()\n",
    "prior_mean = numpy.array(prior_mean)\n",
    "prior_cov = numpy.array(prior_cov)"
   ],
   "metadata": {
    "collapsed": false
   },
   "id": "178926d5828bcdf2"
  },
  {
   "cell_type": "code",
   "execution_count": null,
   "outputs": [],
   "source": [
    "n_samples = 20\n",
    "dimension = 2\n",
    "\n",
    "with pm.Model() as model:\n",
    "    z_uncertain = pm.MvNormal('z_uncertain', mu=prior_mean, cov=prior_cov, shape=(n_samples, dimension))\n",
    "    trace = pm.sample(10)\n",
    "\n",
    "    print(trace.varnames)\n"
   ],
   "metadata": {
    "collapsed": false
   },
   "id": "4ab93248f52cd5c3"
  },
  {
   "cell_type": "code",
   "execution_count": null,
   "outputs": [],
   "source": [
    "z_uncertain_samples = trace['z_uncertain']\n",
    "z_uncertain_samples"
   ],
   "metadata": {
    "collapsed": false
   },
   "id": "136eb3a49c2a6504"
  },
  {
   "cell_type": "code",
   "execution_count": null,
   "outputs": [],
   "source": [
    "K = compute_K(z_uncertain, init_params, Xfz, Xfg)"
   ],
   "metadata": {
    "collapsed": false
   },
   "id": "d10e9e628255ccc"
  }
 ],
 "metadata": {
  "kernelspec": {
   "display_name": "Python 3",
   "language": "python",
   "name": "python3"
  },
  "language_info": {
   "codemirror_mode": {
    "name": "ipython",
    "version": 2
   },
   "file_extension": ".py",
   "mimetype": "text/x-python",
   "name": "python",
   "nbconvert_exporter": "python",
   "pygments_lexer": "ipython2",
   "version": "2.7.6"
  }
 },
 "nbformat": 4,
 "nbformat_minor": 5
}
